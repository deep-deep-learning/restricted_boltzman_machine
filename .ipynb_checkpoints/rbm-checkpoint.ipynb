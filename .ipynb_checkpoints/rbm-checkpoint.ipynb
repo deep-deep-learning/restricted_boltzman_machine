{
 "cells": [
  {
   "cell_type": "code",
   "execution_count": 1,
   "id": "da7501de-8baf-450e-b3af-7b6097dc4bc8",
   "metadata": {},
   "outputs": [],
   "source": [
    "import torch\n",
    "import torch.nn as nn"
   ]
  },
  {
   "cell_type": "code",
   "execution_count": null,
   "id": "3ce180f9-3446-4b42-aac4-5c402ed4d0b8",
   "metadata": {},
   "outputs": [],
   "source": [
    "class RBM(nn.Module):\n",
    "    \n",
    "    def __init__(self, n_vis, n_hid, k):\n",
    "        \n",
    "        super(RBM, self).__init__()\n",
    "        \n",
    "        self.W = nn.Parameter(torch.randn(n_hid, n_vis))\n",
    "        self.v_bias = nn.Parameter(torch.randn(1, n_vis))\n",
    "        self.h_bias = nn.Para"
   ]
  }
 ],
 "metadata": {
  "kernelspec": {
   "display_name": "Python 3",
   "language": "python",
   "name": "python3"
  },
  "language_info": {
   "codemirror_mode": {
    "name": "ipython",
    "version": 3
   },
   "file_extension": ".py",
   "mimetype": "text/x-python",
   "name": "python",
   "nbconvert_exporter": "python",
   "pygments_lexer": "ipython3",
   "version": "3.8.10"
  }
 },
 "nbformat": 4,
 "nbformat_minor": 5
}
