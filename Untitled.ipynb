{
 "cells": [
  {
   "cell_type": "code",
   "execution_count": 1,
   "id": "24fe9385-dfe3-4caa-9829-ba75ba2809a8",
   "metadata": {},
   "outputs": [],
   "source": [
    "import torch\n",
    "import torch.nn as nn\n",
    "import torch.nn.functional as F\n",
    "import torch.utils.data"
   ]
  },
  {
   "cell_type": "code",
   "execution_count": 13,
   "id": "e6afd58c-d0a0-4eb4-b7c7-d373fbbd3dd3",
   "metadata": {},
   "outputs": [],
   "source": [
    "class RBM(nn.Module):\n",
    "    \n",
    "    def __init__(self, n_visible=784, n_hidden=129, k=1):\n",
    "        \n",
    "        super(RBM, self).__init__()\n",
    "        \n",
    "        self.a = nn.Parameter(torch.randn(1,n_visible))\n",
    "        self.b = nn.Parameter(torch.randn(1,n_hidden))\n",
    "        \n",
    "        self.W = nn.Parameter(torch.randn(n_hidden, n_visible))\n",
    "        \n",
    "    def visible_to_hidden(self, v):\n",
    "        \n",
    "        p = torch.sigmoid(F.linear(v, self.W, self.h))\n",
    "        return p.bernoulli()\n",
    "    \n",
    "    def hidden_to_visible(self, h):\n",
    "        \n",
    "        p = torch.sigmoid(F.linear(h, self.W.t(), self.v))\n",
    "        return p.bernoulli()\n",
    "    \n",
    "    def free_energy(self, v):\n",
    "        \n",
    "        v_term = torch.matmul(v, self.v.t())\n",
    "        w_x_h = F.linear(v, self.W, self.h)\n",
    "        h_term = torch.sum(F.softplus(w_x_h), dim=1)\n",
    "        \n",
    "        \n",
    "        "
   ]
  },
  {
   "cell_type": "code",
   "execution_count": 11,
   "id": "a51a9d54-c186-4a33-af1e-ef66f09afd8f",
   "metadata": {},
   "outputs": [
    {
     "name": "stdout",
     "output_type": "stream",
     "text": [
      "tensor([[0.3315, 0.1695, 0.1297, 0.2741, 0.6482],\n",
      "        [0.3362, 0.7905, 0.1505, 0.8775, 0.4928],\n",
      "        [0.4019, 0.7081, 0.3931, 0.7873, 0.2831],\n",
      "        [0.2252, 0.2172, 0.1960, 0.8216, 0.1957],\n",
      "        [0.3208, 0.8677, 0.4703, 0.2684, 0.6800],\n",
      "        [0.3672, 0.3641, 0.3519, 0.6814, 0.7426],\n",
      "        [0.3439, 0.2184, 0.3443, 0.5656, 0.4609],\n",
      "        [0.6042, 0.7400, 0.7921, 0.5084, 0.6394],\n",
      "        [0.4114, 0.3261, 0.5428, 0.5264, 0.4995],\n",
      "        [0.3905, 0.5469, 0.5158, 0.7777, 0.7731]])\n"
     ]
    }
   ],
   "source": [
    "p = torch.sigmoid(torch.randn((10,5)))\n",
    "print(p)"
   ]
  },
  {
   "cell_type": "code",
   "execution_count": 12,
   "id": "522ab536-1a1e-4a63-87ad-a26986f34d96",
   "metadata": {},
   "outputs": [
    {
     "data": {
      "text/plain": [
       "tensor([[0., 0., 0., 0., 1.],\n",
       "        [0., 1., 0., 1., 1.],\n",
       "        [1., 0., 1., 1., 1.],\n",
       "        [0., 0., 0., 0., 0.],\n",
       "        [0., 1., 1., 1., 0.],\n",
       "        [0., 0., 1., 1., 1.],\n",
       "        [0., 1., 0., 0., 1.],\n",
       "        [1., 1., 1., 0., 1.],\n",
       "        [1., 0., 1., 1., 0.],\n",
       "        [1., 1., 0., 0., 1.]])"
      ]
     },
     "execution_count": 12,
     "metadata": {},
     "output_type": "execute_result"
    }
   ],
   "source": [
    "p.bernoulli()"
   ]
  },
  {
   "cell_type": "code",
   "execution_count": null,
   "id": "3aa124a6-a9d6-4572-9fbc-a4d9b44dd029",
   "metadata": {},
   "outputs": [],
   "source": []
  }
 ],
 "metadata": {
  "kernelspec": {
   "display_name": "Python 3",
   "language": "python",
   "name": "python3"
  },
  "language_info": {
   "codemirror_mode": {
    "name": "ipython",
    "version": 3
   },
   "file_extension": ".py",
   "mimetype": "text/x-python",
   "name": "python",
   "nbconvert_exporter": "python",
   "pygments_lexer": "ipython3",
   "version": "3.8.10"
  }
 },
 "nbformat": 4,
 "nbformat_minor": 5
}
